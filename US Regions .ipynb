{
 "cells": [
  {
   "cell_type": "code",
   "execution_count": null,
   "id": "89b80813",
   "metadata": {},
   "outputs": [],
   "source": [
    "#!pip show pandas"
   ]
  },
  {
   "cell_type": "code",
   "execution_count": null,
   "id": "3f39b817",
   "metadata": {},
   "outputs": [],
   "source": [
    "import pandas as pd\n",
    "gitCloudGuided='https://github.com/allisgoodrn/guided1/raw/main/'\n",
    "worldPoplReview='data1.csv'\n",
    "##\n",
    "gitCloudGuided1='https://github.com/allisgoodrn/guided1/raw/main/'\n",
    "worldPoplReviewCost='data2.csv'"
   ]
  },
  {
   "cell_type": "code",
   "execution_count": null,
   "id": "4298cd6c",
   "metadata": {},
   "outputs": [],
   "source": [
    "## fetching our data\n",
    "DFcsv1=pd.read_csv(gitCloudGuided + worldPoplReview)\n",
    "DFcsv2=pd.read_csv(gitCloudGuided1 + worldPoplReviewCost)"
   ]
  },
  {
   "cell_type": "code",
   "execution_count": null,
   "id": "50340cee",
   "metadata": {},
   "outputs": [],
   "source": [
    "## these are the columns shared among the DFs\n",
    "set(DFcsv1.columns) &set(DFcsv2)"
   ]
  },
  {
   "cell_type": "code",
   "execution_count": null,
   "id": "3c5f899a",
   "metadata": {},
   "outputs": [],
   "source": [
    "want=['State','Total','WhiteNonHispanic','BlackNonHispanic','IndianNonHispanic', 'AsianNonHispanic', 'Hispanic']\n",
    "DFcsv1=DFcsv1.loc[:,want]"
   ]
  },
  {
   "cell_type": "code",
   "execution_count": null,
   "id": "4d0d8bab",
   "metadata": {},
   "outputs": [],
   "source": [
    "#changing the column names \n",
    "DFcsv1.rename(columns=\n",
    "              {'Total':'Total_Population',\n",
    "               'WhiteNonHispanic':'European',\n",
    "              'BlackNonHispanic': 'African',\n",
    "               'IndianNonHispanic':'Indigenous',\n",
    "              'AsianNonHispanic':'Asian',\n",
    "               'Hispanic':'Latinx',\n",
    "               'costIndex':'Cost_Index'},inplace = True)"
   ]
  },
  {
   "cell_type": "code",
   "execution_count": null,
   "id": "3d141a9b",
   "metadata": {},
   "outputs": [],
   "source": [
    "DFcsv1.columns.to_list()"
   ]
  },
  {
   "cell_type": "code",
   "execution_count": null,
   "id": "6203c699",
   "metadata": {},
   "outputs": [],
   "source": [
    "DFcsv1.reset_index(drop=True, inplace=True)"
   ]
  },
  {
   "cell_type": "code",
   "execution_count": null,
   "id": "27ca0eda",
   "metadata": {},
   "outputs": [],
   "source": [
    "DFcsv2.columns"
   ]
  },
  {
   "cell_type": "code",
   "execution_count": null,
   "id": "4f33db7a",
   "metadata": {},
   "outputs": [],
   "source": [
    "want2=['state','costIndex']\n",
    "DFcsv2=DFcsv2.loc[:,want2]"
   ]
  },
  {
   "cell_type": "code",
   "execution_count": null,
   "id": "d5a011df",
   "metadata": {},
   "outputs": [],
   "source": [
    "DFcsv2.rename(columns=\n",
    "              {'costIndex':'Cost_Index'},inplace = True)"
   ]
  },
  {
   "cell_type": "code",
   "execution_count": null,
   "id": "6d068745",
   "metadata": {},
   "outputs": [],
   "source": [
    "DFcsv2=DFcsv2.sort_values(by=[\"state\"], inplace= False, ascending=True)"
   ]
  },
  {
   "cell_type": "code",
   "execution_count": null,
   "id": "edba0f3b",
   "metadata": {},
   "outputs": [],
   "source": [
    "complete=DFcsv1.merge(DFcsv2,right_on='state',left_on='State')#.shape"
   ]
  },
  {
   "cell_type": "code",
   "execution_count": null,
   "id": "dc9e8222",
   "metadata": {},
   "outputs": [],
   "source": [
    "# dropping the lower case state column \n",
    "complete=complete.drop(labels= 'state',axis=1)"
   ]
  },
  {
   "cell_type": "code",
   "execution_count": null,
   "id": "6ecfefd6",
   "metadata": {},
   "outputs": [],
   "source": [
    "complete.columns.to_list()"
   ]
  },
  {
   "cell_type": "code",
   "execution_count": null,
   "id": "941dc22f",
   "metadata": {},
   "outputs": [],
   "source": [
    "complete=complete[['State', 'Total_Population', 'Cost_Index', 'Indigenous','European','Latinx','African','Asian']]"
   ]
  },
  {
   "cell_type": "code",
   "execution_count": null,
   "id": "c12242b8",
   "metadata": {},
   "outputs": [],
   "source": [
    "complete.reset_index(drop=True, inplace=True)"
   ]
  },
  {
   "cell_type": "code",
   "execution_count": null,
   "id": "6c5b6e89",
   "metadata": {},
   "outputs": [],
   "source": [
    "#Creating the northeast region\n",
    "Northeast=complete.iloc[[20,38,6,44,28,18,37,29,31],:]"
   ]
  },
  {
   "cell_type": "code",
   "execution_count": null,
   "id": "1aeb8c17",
   "metadata": {},
   "outputs": [],
   "source": [
    "Northeast.reset_index(drop=True, inplace=True)"
   ]
  },
  {
   "cell_type": "code",
   "execution_count": null,
   "id": "5fb9338f",
   "metadata": {},
   "outputs": [],
   "source": [
    "#creating the southeast region \n",
    "Southeast=complete.iloc[[9,32,39,45,47,16,41,23,0,7,19,8,17,3],:]"
   ]
  },
  {
   "cell_type": "code",
   "execution_count": null,
   "id": "fcba5424",
   "metadata": {},
   "outputs": [],
   "source": [
    "Southeast.reset_index(drop=True, inplace=True)"
   ]
  },
  {
   "cell_type": "code",
   "execution_count": null,
   "id": "e1edd1e1",
   "metadata": {},
   "outputs": [],
   "source": [
    "#creating the midwest region\n",
    "Midwest=complete.iloc[[22,48,12,34,13,21,24,14,15,26,33,40],:]"
   ]
  },
  {
   "cell_type": "code",
   "execution_count": null,
   "id": "aaed59a6",
   "metadata": {},
   "outputs": [],
   "source": [
    "Midwest.reset_index(drop=True, inplace=True)"
   ]
  },
  {
   "cell_type": "code",
   "execution_count": null,
   "id": "4d45290d",
   "metadata": {},
   "outputs": [],
   "source": [
    "#creating the sw region\n",
    "Southwest=complete.iloc[[30,2,35,42],:]"
   ]
  },
  {
   "cell_type": "code",
   "execution_count": null,
   "id": "8658a6f5",
   "metadata": {},
   "outputs": [],
   "source": [
    "Southeast.reset_index(drop=True, inplace=True)"
   ]
  },
  {
   "cell_type": "code",
   "execution_count": null,
   "id": "f0f27db5",
   "metadata": {},
   "outputs": [],
   "source": [
    "#creating the west region \n",
    "West=complete.iloc[[4,5,27,10,1,36,43,11,25,49,46],:]"
   ]
  },
  {
   "cell_type": "code",
   "execution_count": null,
   "id": "471e0434",
   "metadata": {},
   "outputs": [],
   "source": [
    "West.reset_index(drop=True, inplace=True)"
   ]
  },
  {
   "cell_type": "code",
   "execution_count": null,
   "id": "9a33f3cf",
   "metadata": {},
   "outputs": [],
   "source": [
    "# complete=DFcsv1.merge(DFcsv2,right_on='state',left_on='State')#.shape"
   ]
  },
  {
   "cell_type": "code",
   "execution_count": null,
   "id": "54be2ed2",
   "metadata": {},
   "outputs": [],
   "source": [
    "# Final=pd.concat([Northeast,Southeast,Midwest,West])"
   ]
  },
  {
   "cell_type": "code",
   "execution_count": null,
   "id": "7a17d695",
   "metadata": {},
   "outputs": [],
   "source": [
    "Northeast"
   ]
  },
  {
   "cell_type": "code",
   "execution_count": null,
   "id": "da99414e",
   "metadata": {},
   "outputs": [],
   "source": [
    "Northeast.iloc[:9].to_list()"
   ]
  }
 ],
 "metadata": {
  "kernelspec": {
   "display_name": "Python 3 (ipykernel)",
   "language": "python",
   "name": "python3"
  },
  "language_info": {
   "codemirror_mode": {
    "name": "ipython",
    "version": 3
   },
   "file_extension": ".py",
   "mimetype": "text/x-python",
   "name": "python",
   "nbconvert_exporter": "python",
   "pygments_lexer": "ipython3",
   "version": "3.9.15"
  }
 },
 "nbformat": 4,
 "nbformat_minor": 5
}
