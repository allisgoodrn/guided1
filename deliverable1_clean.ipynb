{
 "cells": [
  {
   "cell_type": "code",
   "execution_count": null,
   "id": "1f98fe64",
   "metadata": {},
   "outputs": [],
   "source": [
    "#!pip show pandas\n",
    "import pandas as pd\n",
    "from bs4 import BeautifulSoup\n",
    "import requests \n",
    "\n",
    "\n",
    "#table 1 from wiki \n",
    "wiki_url=\"https://en.wikipedia.org/wiki/List_of_U.S._states_and_territories_by_educational_attainment#List\"\n",
    "table_id=\"education-by-state\"\n",
    "\n",
    "response=requests.get(wiki_url)\n",
    "soup=BeautifulSoup(response.text,'html.parser')\n",
    "\n",
    "####\n",
    "#table 2 from world population review \n",
    "gitCloudGuided='https://github.com/allisgoodrn/guided1/raw/main/'\n",
    "worldPoplReview='data1.csv'\n",
    "\n",
    "#table 3 from world population review \n",
    "gitCloudGuided1='https://github.com/allisgoodrn/guided1/raw/main/'\n",
    "worldPoplReviewCost='data2.csv'\n",
    "\n",
    "#fetching data from table 2 & 3\n",
    "DFcsv_pop=pd.read_csv(gitCloudGuided + worldPoplReview)\n",
    "DFcsv_cost=pd.read_csv(gitCloudGuided1 + worldPoplReviewCost)"
   ]
  },
  {
   "cell_type": "code",
   "execution_count": null,
   "id": "9ac1ea62",
   "metadata": {
    "scrolled": true
   },
   "outputs": [],
   "source": [
    "#cleaning table 1 from wiki\n",
    "wikiLink_educ=soup.find('table',attrs={'id':table_id})\n",
    "DFwiki_educ=pd.read_html(str(wikiLink_educ))\n",
    "DFwiki_educ"
   ]
  },
  {
   "cell_type": "code",
   "execution_count": null,
   "id": "b87b6724",
   "metadata": {},
   "outputs": [],
   "source": [
    "#cleaning table 1 from wiki\n",
    "\n",
    "DFwiki_educ=DFwiki_educ[0]"
   ]
  },
  {
   "cell_type": "code",
   "execution_count": null,
   "id": "8e8d3273",
   "metadata": {
    "scrolled": true
   },
   "outputs": [],
   "source": [
    "#cleaning table 1 from wiki\n",
    "\n",
    "# drop a level from a multi-level column index\n",
    "DFwiki_educ.columns = DFwiki_educ.columns.droplevel(0)\n"
   ]
  },
  {
   "cell_type": "code",
   "execution_count": null,
   "id": "140f29e2",
   "metadata": {},
   "outputs": [],
   "source": [
    "#cleaning table 1 from wiki\n",
    "\n",
    "# drop the unwanted columns\n",
    "DFwiki_educ= DFwiki_educ.drop([\"Population over the age of 25\", \"Population\"], axis=1)\n",
    "# # rename columns for ease\n",
    "DFwiki_educ= DFwiki_educ.rename(columns={\"State or Territory\": \"State\"})\n",
    "print(DFwiki_educ.head())"
   ]
  },
  {
   "cell_type": "code",
   "execution_count": null,
   "id": "bb83c068",
   "metadata": {},
   "outputs": [],
   "source": [
    "#cleaning table 1 from wiki\n",
    "\n",
    "# drop unwanted row \n",
    "DFwiki_educ=DFwiki_educ.drop([0,53])\n",
    "DFwiki_educ"
   ]
  },
  {
   "cell_type": "code",
   "execution_count": null,
   "id": "63b45544",
   "metadata": {},
   "outputs": [],
   "source": [
    "#cleaning table 1 from wiki\n",
    "\n",
    "DFwiki_educ.reset_index(drop=True, inplace=True)"
   ]
  },
  {
   "cell_type": "code",
   "execution_count": null,
   "id": "9974eb36",
   "metadata": {},
   "outputs": [],
   "source": [
    "#cleaning table 1 from wiki\n",
    "\n",
    "DFwiki_educ.columns = ['State', 'Pct1','With a BA or higher','Pct3']\n",
    "DFwiki_educ"
   ]
  },
  {
   "cell_type": "code",
   "execution_count": null,
   "id": "466b4eed",
   "metadata": {},
   "outputs": [],
   "source": [
    "#cleaning table 1 from wiki\n",
    "\n",
    "DFwiki_educ=DFwiki_educ.drop(columns=['Pct1', 'Pct3'])"
   ]
  },
  {
   "cell_type": "code",
   "execution_count": null,
   "id": "581965c3",
   "metadata": {},
   "outputs": [],
   "source": [
    "#cleaning table 1 from wiki\n",
    "\n",
    "#converting a percentage string to numeric\n",
    "DFwiki_educ['With a BA or higher'] = DFwiki_educ['With a BA or higher'].str.rstrip(\"%\").astype(float)/100\n",
    "DFwiki_educ"
   ]
  },
  {
   "cell_type": "code",
   "execution_count": null,
   "id": "3d37b251",
   "metadata": {},
   "outputs": [],
   "source": [
    "#cleaning table 2 population\n",
    "\n",
    "#changing the column name state to State\n",
    "DFcsv_cost.rename(columns=\n",
    "              {'state':'State'},inplace = True)"
   ]
  },
  {
   "cell_type": "code",
   "execution_count": null,
   "id": "3f1e7053",
   "metadata": {},
   "outputs": [],
   "source": [
    "##these are the columns shared among the DFs\n",
    "set(DFcsv_pop.columns) &set(DFcsv_cost)&set(DFwiki_educ)"
   ]
  },
  {
   "cell_type": "code",
   "execution_count": null,
   "id": "ea26bb75",
   "metadata": {},
   "outputs": [],
   "source": [
    "#cleaning table 2 population\n",
    "want_pop=['State','Total','WhiteNonHispanic','BlackNonHispanic','IndianNonHispanic', 'AsianNonHispanic', 'Hispanic']\n",
    "DFcsv_pop=DFcsv_pop.loc[:,want_pop]"
   ]
  },
  {
   "cell_type": "code",
   "execution_count": null,
   "id": "4548a74e",
   "metadata": {},
   "outputs": [],
   "source": [
    "DFcsv_pop.reset_index(drop=True, inplace=True)"
   ]
  },
  {
   "cell_type": "code",
   "execution_count": null,
   "id": "0d0e358f",
   "metadata": {},
   "outputs": [],
   "source": [
    "#cleaning table 3 cost\n",
    "want_cost=['State','costIndex']\n",
    "DFcsv_cost=DFcsv_cost.loc[:,want_cost]"
   ]
  },
  {
   "cell_type": "code",
   "execution_count": null,
   "id": "ece4320c",
   "metadata": {},
   "outputs": [],
   "source": [
    "#cleaning table 3 cost \n",
    "DFcsv_cost=DFcsv_cost.sort_values(by=[\"State\"], inplace= False, ascending=True)"
   ]
  },
  {
   "cell_type": "code",
   "execution_count": null,
   "id": "10cff1bb",
   "metadata": {},
   "outputs": [],
   "source": [
    "#merging all three df \n",
    "merged_ready = DFcsv_cost.merge(DFwiki_educ,on='State').merge(DFcsv_pop,on='State')"
   ]
  },
  {
   "cell_type": "code",
   "execution_count": null,
   "id": "24e7359c",
   "metadata": {},
   "outputs": [],
   "source": [
    "#changing the column names \n",
    "merged_ready.rename(columns=\n",
    "              {'Total':'Total_Population',\n",
    "               'WhiteNonHispanic':'European',\n",
    "              'BlackNonHispanic': 'African',\n",
    "               'IndianNonHispanic':'Indigenous',\n",
    "              'AsianNonHispanic':'Asian',\n",
    "               'Hispanic':'Latinx',\n",
    "               'costIndex':'Cost_Index'},inplace = True)"
   ]
  },
  {
   "cell_type": "code",
   "execution_count": null,
   "id": "240fb4e9",
   "metadata": {},
   "outputs": [],
   "source": [
    "merged_ready=merged_ready[['State', 'Total_Population', 'With a BA or higher','Cost_Index', 'Indigenous','European','Latinx','African','Asian']]"
   ]
  },
  {
   "cell_type": "code",
   "execution_count": null,
   "id": "0dae94e9",
   "metadata": {},
   "outputs": [],
   "source": [
    "#bye anything between parenthesis\n",
    "merged_ready.columns.str.replace('\\(.+\\)',\"\", regex=True)"
   ]
  },
  {
   "cell_type": "code",
   "execution_count": null,
   "id": "f910ef92",
   "metadata": {},
   "outputs": [],
   "source": [
    "#bye anything between parenthesis, bye leading-trailing spaces\n",
    "merged_ready.columns.str.replace('\\(.+\\)',\"\", regex=True).str.strip()"
   ]
  },
  {
   "cell_type": "code",
   "execution_count": null,
   "id": "1f66da31",
   "metadata": {},
   "outputs": [],
   "source": [
    "#bye anything between parenthesis, bye leading-trailing spaces, title case\n",
    "merged_ready.columns.str.replace('\\(.+\\)',\"\", regex=True).\\\n",
    "                          str.strip().\\\n",
    "                          str.title()"
   ]
  },
  {
   "cell_type": "code",
   "execution_count": null,
   "id": "6a075a33",
   "metadata": {},
   "outputs": [],
   "source": [
    "merged_ready.columns=merged_ready.columns.str.replace('\\(.+\\)',\"\", regex=True).\\\n",
    "                          str.strip().\\\n",
    "                          str.title()\n",
    "merged_ready"
   ]
  },
  {
   "cell_type": "code",
   "execution_count": null,
   "id": "56c4057b",
   "metadata": {},
   "outputs": [],
   "source": [
    "merged_ready.columns.str.replace(\" \",'',regex=False)"
   ]
  },
  {
   "cell_type": "code",
   "execution_count": null,
   "id": "36b33193",
   "metadata": {},
   "outputs": [],
   "source": [
    "merged_ready.columns=merged_ready.columns.str.replace(\" \",'',regex=False)"
   ]
  },
  {
   "cell_type": "code",
   "execution_count": null,
   "id": "92576825",
   "metadata": {},
   "outputs": [],
   "source": [
    "merged_ready=merged_ready[~merged_ready.iloc[:,1:].isna().any(axis=1)].copy()\n",
    "#\n",
    "merged_ready"
   ]
  },
  {
   "cell_type": "code",
   "execution_count": null,
   "id": "f8461fdf",
   "metadata": {},
   "outputs": [],
   "source": [
    "merged_ready=merged_ready.copy()"
   ]
  },
  {
   "cell_type": "code",
   "execution_count": null,
   "id": "d915c414",
   "metadata": {},
   "outputs": [],
   "source": [
    "merged_ready.to_csv(\"deliverable1.csv\")"
   ]
  }
 ],
 "metadata": {
  "kernelspec": {
   "display_name": "Python 3 (ipykernel)",
   "language": "python",
   "name": "python3"
  },
  "language_info": {
   "codemirror_mode": {
    "name": "ipython",
    "version": 3
   },
   "file_extension": ".py",
   "mimetype": "text/x-python",
   "name": "python",
   "nbconvert_exporter": "python",
   "pygments_lexer": "ipython3",
   "version": "3.9.16"
  }
 },
 "nbformat": 4,
 "nbformat_minor": 5
}
